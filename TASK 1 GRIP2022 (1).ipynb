{
 "cells": [
  {
   "cell_type": "markdown",
   "id": "cce42eae-ba81-4de4-9b3c-07fc2628c8da",
   "metadata": {},
   "source": [
    "# ELIZABETH EPHAIM \n",
    "# GRIP November 2022 Internship \n",
    "## Task 1 Prediction Using Supervised Merchine Learning\n",
    "### Linear Regression\n",
    "`We use Linear Regression when Predicting something continious,for example House Price. in this case, students scores`<br/>\n",
    "`We have two Variables:`\n",
    "- Independent Variable: No of hours studied.\n",
    "- Dependent Variable: Students Scores.\n"
   ]
  },
  {
   "cell_type": "markdown",
   "id": "2108b9f2-c21b-4cd0-b6e1-5e13f5af860e",
   "metadata": {},
   "source": [
    "## Importing all necessary Libraries."
   ]
  },
  {
   "cell_type": "code",
   "execution_count": 1,
   "id": "86648a7d-251d-464c-a687-79c0cfd4ffa5",
   "metadata": {},
   "outputs": [],
   "source": [
    "import pandas as pd\n",
    "import numpy as np  \n",
    "import seaborn as sns\n",
    "from sklearn.model_selection import train_test_split \n",
    "import matplotlib.pyplot as plt  \n",
    "%matplotlib inline\n",
    "import warnings\n",
    "warnings.filterwarnings(\"ignore\")"
   ]
  },
  {
   "cell_type": "code",
   "execution_count": 2,
   "id": "b8d0a62c-f072-4448-a6a0-96235b1577fd",
   "metadata": {},
   "outputs": [
    {
     "data": {
      "text/html": [
       "<div>\n",
       "<style scoped>\n",
       "    .dataframe tbody tr th:only-of-type {\n",
       "        vertical-align: middle;\n",
       "    }\n",
       "\n",
       "    .dataframe tbody tr th {\n",
       "        vertical-align: top;\n",
       "    }\n",
       "\n",
       "    .dataframe thead th {\n",
       "        text-align: right;\n",
       "    }\n",
       "</style>\n",
       "<table border=\"1\" class=\"dataframe\">\n",
       "  <thead>\n",
       "    <tr style=\"text-align: right;\">\n",
       "      <th></th>\n",
       "      <th>Hours</th>\n",
       "      <th>Scores</th>\n",
       "    </tr>\n",
       "  </thead>\n",
       "  <tbody>\n",
       "    <tr>\n",
       "      <th>0</th>\n",
       "      <td>2.5</td>\n",
       "      <td>21</td>\n",
       "    </tr>\n",
       "    <tr>\n",
       "      <th>1</th>\n",
       "      <td>5.1</td>\n",
       "      <td>47</td>\n",
       "    </tr>\n",
       "    <tr>\n",
       "      <th>2</th>\n",
       "      <td>3.2</td>\n",
       "      <td>27</td>\n",
       "    </tr>\n",
       "    <tr>\n",
       "      <th>3</th>\n",
       "      <td>8.5</td>\n",
       "      <td>75</td>\n",
       "    </tr>\n",
       "    <tr>\n",
       "      <th>4</th>\n",
       "      <td>3.5</td>\n",
       "      <td>30</td>\n",
       "    </tr>\n",
       "    <tr>\n",
       "      <th>5</th>\n",
       "      <td>1.5</td>\n",
       "      <td>20</td>\n",
       "    </tr>\n",
       "    <tr>\n",
       "      <th>6</th>\n",
       "      <td>9.2</td>\n",
       "      <td>88</td>\n",
       "    </tr>\n",
       "    <tr>\n",
       "      <th>7</th>\n",
       "      <td>5.5</td>\n",
       "      <td>60</td>\n",
       "    </tr>\n",
       "    <tr>\n",
       "      <th>8</th>\n",
       "      <td>8.3</td>\n",
       "      <td>81</td>\n",
       "    </tr>\n",
       "    <tr>\n",
       "      <th>9</th>\n",
       "      <td>2.7</td>\n",
       "      <td>25</td>\n",
       "    </tr>\n",
       "    <tr>\n",
       "      <th>10</th>\n",
       "      <td>7.7</td>\n",
       "      <td>85</td>\n",
       "    </tr>\n",
       "    <tr>\n",
       "      <th>11</th>\n",
       "      <td>5.9</td>\n",
       "      <td>62</td>\n",
       "    </tr>\n",
       "    <tr>\n",
       "      <th>12</th>\n",
       "      <td>4.5</td>\n",
       "      <td>41</td>\n",
       "    </tr>\n",
       "    <tr>\n",
       "      <th>13</th>\n",
       "      <td>3.3</td>\n",
       "      <td>42</td>\n",
       "    </tr>\n",
       "    <tr>\n",
       "      <th>14</th>\n",
       "      <td>1.1</td>\n",
       "      <td>17</td>\n",
       "    </tr>\n",
       "    <tr>\n",
       "      <th>15</th>\n",
       "      <td>8.9</td>\n",
       "      <td>95</td>\n",
       "    </tr>\n",
       "    <tr>\n",
       "      <th>16</th>\n",
       "      <td>2.5</td>\n",
       "      <td>30</td>\n",
       "    </tr>\n",
       "    <tr>\n",
       "      <th>17</th>\n",
       "      <td>1.9</td>\n",
       "      <td>24</td>\n",
       "    </tr>\n",
       "    <tr>\n",
       "      <th>18</th>\n",
       "      <td>6.1</td>\n",
       "      <td>67</td>\n",
       "    </tr>\n",
       "    <tr>\n",
       "      <th>19</th>\n",
       "      <td>7.4</td>\n",
       "      <td>69</td>\n",
       "    </tr>\n",
       "    <tr>\n",
       "      <th>20</th>\n",
       "      <td>2.7</td>\n",
       "      <td>30</td>\n",
       "    </tr>\n",
       "    <tr>\n",
       "      <th>21</th>\n",
       "      <td>4.8</td>\n",
       "      <td>54</td>\n",
       "    </tr>\n",
       "    <tr>\n",
       "      <th>22</th>\n",
       "      <td>3.8</td>\n",
       "      <td>35</td>\n",
       "    </tr>\n",
       "    <tr>\n",
       "      <th>23</th>\n",
       "      <td>6.9</td>\n",
       "      <td>76</td>\n",
       "    </tr>\n",
       "    <tr>\n",
       "      <th>24</th>\n",
       "      <td>7.8</td>\n",
       "      <td>86</td>\n",
       "    </tr>\n",
       "  </tbody>\n",
       "</table>\n",
       "</div>"
      ],
      "text/plain": [
       "    Hours  Scores\n",
       "0     2.5      21\n",
       "1     5.1      47\n",
       "2     3.2      27\n",
       "3     8.5      75\n",
       "4     3.5      30\n",
       "5     1.5      20\n",
       "6     9.2      88\n",
       "7     5.5      60\n",
       "8     8.3      81\n",
       "9     2.7      25\n",
       "10    7.7      85\n",
       "11    5.9      62\n",
       "12    4.5      41\n",
       "13    3.3      42\n",
       "14    1.1      17\n",
       "15    8.9      95\n",
       "16    2.5      30\n",
       "17    1.9      24\n",
       "18    6.1      67\n",
       "19    7.4      69\n",
       "20    2.7      30\n",
       "21    4.8      54\n",
       "22    3.8      35\n",
       "23    6.9      76\n",
       "24    7.8      86"
      ]
     },
     "execution_count": 2,
     "metadata": {},
     "output_type": "execute_result"
    }
   ],
   "source": [
    "linkUrl = \"http://bit.ly/w-data\"\n",
    "student_data = pd.read_csv(linkUrl)\n",
    "student_data"
   ]
  },
  {
   "cell_type": "markdown",
   "id": "b5e703ac-8dc7-417e-93b8-beb69a5a80aa",
   "metadata": {},
   "source": [
    "# A great starting point for our analysis is a scatterplot. \n",
    "## This will tell us see if there's any realationship between the data in the first place."
   ]
  },
  {
   "cell_type": "code",
   "execution_count": 3,
   "id": "a46b999e-ed83-47d5-b1c9-f947ef6e5243",
   "metadata": {},
   "outputs": [
    {
     "data": {
      "image/png": "[encoded data removed]",
      "text/plain": [
       "<Figure size 432x288 with 1 Axes>"
      ]
     },
     "metadata": {
      "needs_background": "light"
     },
     "output_type": "display_data"
    }
   ],
   "source": [
    "student_data.plot(x='Hours', y='Scores', style='o')  \n",
    "plt.title('Hours vs Percentage')  \n",
    "plt.xlabel('Hours Studied')  \n",
    "plt.ylabel('Percentage Score')  \n",
    "plt.show()"
   ]
  },
  {
   "cell_type": "markdown",
   "id": "fb0252fe-2e4e-42ac-a287-76bf08c01468",
   "metadata": {},
   "source": [
    "`From the above Graph, its easy to see that there is a positive linear relationship between the number of Hours used for study and the students Scores`"
   ]
  },
  {
   "cell_type": "markdown",
   "id": "12a5090b-9dda-4095-8bcb-4fb1ce8b7439",
   "metadata": {},
   "source": [
    "# Lets us classify the data into \"features\" (inputs) and \"labels\" (outputs)\n",
    "- Features represent the different columns in a data set\"\n",
    "- Labels are also called Target, it gives the supervisory signal to the data. Targets is always only one column\"\n",
    "- In this data, the `Scores` column is our Label/Target (y), the `Hours` column is our features (x)"
   ]
  },
  {
   "cell_type": "code",
   "execution_count": 4,
   "id": "ab637422-83a2-47c7-9c19-40732885ed97",
   "metadata": {},
   "outputs": [],
   "source": [
    "X = student_data.iloc[:,0:1].values\n",
    "y = student_data.iloc[:,1].values.reshape(-1, 1)"
   ]
  },
  {
   "cell_type": "markdown",
   "id": "36660cbd-7006-4354-b258-17edfb9a474a",
   "metadata": {},
   "source": [
    "#  Splitting the data set into Train and Test datasets"
   ]
  },
  {
   "cell_type": "code",
   "execution_count": 30,
   "id": "a6c806f0-a607-4cd4-bebb-12eb2f3b2b79",
   "metadata": {},
   "outputs": [],
   "source": [
    "from sklearn.model_selection import train_test_split  \n",
    "X_train, X_test, y_train, y_test = train_test_split(X, y, test_size=5, random_state=0) "
   ]
  },
  {
   "cell_type": "markdown",
   "id": "89015dda-6e6b-4653-84ae-34571e80c36b",
   "metadata": {
    "tags": []
   },
   "source": [
    "### Quick Explanation :-)\n",
    "- Our dataset has twentyfive x-y pairs. We've specified the argument `test_size=5`\n",
    "- The dataset is divided into a training set with `Twenty(20)` observations and a test set with `Five(5)` observations.\n",
    "- The random state hyperparameter in the `train_test_split()` function controls the shuffling process`\n",
    "- Above, its been set to 0, to control the shuffling process`\n",
    "- By default, the random state hyperparameter is set to none, `random_state=None`which leaves the shuffling process out of control.\n",
    "- When on `random_state=0` , we get the same train and test sets across different executions."
   ]
  },
  {
   "cell_type": "markdown",
   "id": "4d544cc5-9605-4485-b519-beb50f839af0",
   "metadata": {},
   "source": [
    "# Training the dataset\n",
    "## Lets view the shape of the data"
   ]
  },
  {
   "cell_type": "code",
   "execution_count": 6,
   "id": "e16e742d-df49-4e5d-84cf-ffeb55050e64",
   "metadata": {},
   "outputs": [
    {
     "name": "stdout",
     "output_type": "stream",
     "text": [
      "(20, 1)\n",
      "(20, 1)\n",
      "(5, 1)\n",
      "(5, 1)\n"
     ]
    }
   ],
   "source": [
    "print(X_train.shape)\n",
    "print(y_train.shape)\n",
    "print(X_test.shape)\n",
    "print(y_test.shape)"
   ]
  },
  {
   "cell_type": "markdown",
   "id": "d451c1d2-5013-4656-96be-c61dcb06857f",
   "metadata": {},
   "source": [
    "# Fitting the model\n",
    "-  fitting the model means determining the best intercept (model.intercept_) and slope (model.coef_) values of the regression line"
   ]
  },
  {
   "cell_type": "code",
   "execution_count": 7,
   "id": "a24893b6-2403-4be5-a9e2-d1553ffaddf6",
   "metadata": {},
   "outputs": [
    {
     "data": {
      "text/plain": [
       "array([2.01816004])"
      ]
     },
     "execution_count": 7,
     "metadata": {},
     "output_type": "execute_result"
    }
   ],
   "source": [
    "from sklearn.linear_model import LinearRegression  \n",
    "LinReg = LinearRegression().fit(X_train, y_train)\n",
    "LinReg.intercept_"
   ]
  },
  {
   "cell_type": "code",
   "execution_count": 8,
   "id": "5ec9fcab-8a69-4306-9c0f-d1abd433135c",
   "metadata": {},
   "outputs": [
    {
     "data": {
      "text/plain": [
       "array([[9.91065648]])"
      ]
     },
     "execution_count": 8,
     "metadata": {},
     "output_type": "execute_result"
    }
   ],
   "source": [
    "LinReg.coef_"
   ]
  },
  {
   "cell_type": "code",
   "execution_count": 9,
   "id": "fc223b72-bf54-43b2-8ea1-f9803a4e0f66",
   "metadata": {},
   "outputs": [
    {
     "data": {
      "text/plain": [
       "0.9515510725211552"
      ]
     },
     "execution_count": 9,
     "metadata": {},
     "output_type": "execute_result"
    }
   ],
   "source": [
    "LinReg.score(X_train, y_train)"
   ]
  },
  {
   "cell_type": "markdown",
   "id": "81476124-9fb9-46b3-9212-4932d272bf2f",
   "metadata": {},
   "source": [
    "`The higher the R² value, the better the fit`"
   ]
  },
  {
   "cell_type": "markdown",
   "id": "890d7c98-567f-464d-8bb6-6b4d8a23c8b8",
   "metadata": {},
   "source": [
    "# Plotting the regression line\n",
    "## Plotting for the test data"
   ]
  },
  {
   "cell_type": "code",
   "execution_count": 11,
   "id": "0388ba6b-7ba1-4b2f-9ea2-43ae2057ab1c",
   "metadata": {},
   "outputs": [
    {
     "data": {
      "image/png": "[encoded data removed]",
      "text/plain": [
       "<Figure size 432x288 with 1 Axes>"
      ]
     },
     "metadata": {
      "needs_background": "light"
     },
     "output_type": "display_data"
    }
   ],
   "source": [
    "Regline = LinReg.coef_*X+LinReg.intercept_\n",
    "\n",
    "plt.scatter(X, y)\n",
    "plt.plot(X, Regline);\n",
    "plt.show()"
   ]
  },
  {
   "cell_type": "markdown",
   "id": "0b2349f3-d31c-425f-acda-90af1095c49a",
   "metadata": {},
   "source": [
    "# Testing our data.\n",
    "## We'll Test our data using  \"Hours\" to Predict the scores."
   ]
  },
  {
   "cell_type": "code",
   "execution_count": 12,
   "id": "ae80a5f4-166b-4118-9c9d-2ed36ece52dc",
   "metadata": {},
   "outputs": [
    {
     "name": "stdout",
     "output_type": "stream",
     "text": [
      "[[1.5]\n",
      " [3.2]\n",
      " [7.4]\n",
      " [2.5]\n",
      " [5.9]]\n"
     ]
    }
   ],
   "source": [
    "print(X_test) \n",
    "y_prediction = LinReg.predict(X_test) "
   ]
  },
  {
   "cell_type": "markdown",
   "id": "6e252c00-9ee6-45c6-9299-70380611b2e2",
   "metadata": {
    "tags": []
   },
   "source": [
    "## Let us Predict the score if a student studies for 9.25hours/day "
   ]
  },
  {
   "cell_type": "code",
   "execution_count": 22,
   "id": "5a4a2e58-f9cd-4174-a480-2a805ec7c093",
   "metadata": {},
   "outputs": [
    {
     "name": "stdout",
     "output_type": "stream",
     "text": [
      "Hours studied: 9.25\n",
      "Predicted score: [[93.69173249]]\n"
     ]
    }
   ],
   "source": [
    "print( 'Hours studied: 9.25') \n",
    "print(\"Predicted score:\", LinReg.predict(np.array(9.25).reshape(-1, 1)))"
   ]
  },
  {
   "cell_type": "markdown",
   "id": "c28e34e5-b15d-4152-a984-b5ecfa19f909",
   "metadata": {},
   "source": [
    "# Evaluating the model\n",
    "## we will evaluate the model using Mean Absolute Error\n",
    "-  `MAE` is a measure of errors between paired observations expressing the same phenomenon.\n",
    "-  Examples of Y versus X include comparisons of predicted versus observed, subsequent time versus initial time. etc\n",
    "-  `MAE` is calculated as the sum of absolute errors divided by the sample size."
   ]
  },
  {
   "cell_type": "code",
   "execution_count": 24,
   "id": "14f53b06-90e4-40d8-90c6-2fa53104cebd",
   "metadata": {},
   "outputs": [
    {
     "name": "stdout",
     "output_type": "stream",
     "text": [
      "Mean Absolute Error: 4.183859899002975\n"
     ]
    }
   ],
   "source": [
    "from sklearn import metrics  \n",
    "print('Mean Absolute Error:', metrics.mean_absolute_error(y_test, y_prediction)) "
   ]
  },
  {
   "cell_type": "markdown",
   "id": "f64d87dd-f84c-4952-bc6f-fe4fb7e35b65",
   "metadata": {},
   "source": [
    "# Let us check the accuracy of our prediction using a graph"
   ]
  },
  {
   "cell_type": "code",
   "execution_count": 28,
   "id": "1b3d39c6-36b5-4462-b791-ca412362f5aa",
   "metadata": {},
   "outputs": [
    {
     "data": {
      "text/plain": [
       "<matplotlib.legend.Legend at 0x224f7799d30>"
      ]
     },
     "execution_count": 28,
     "metadata": {},
     "output_type": "execute_result"
    },
    {
     "data": {
      "image/png": "[encoded data removed]",
      "text/plain": [
       "<Figure size 432x288 with 1 Axes>"
      ]
     },
     "metadata": {
      "needs_background": "light"
     },
     "output_type": "display_data"
    }
   ],
   "source": [
    "plt.plot(y_prediction, label=\"Predicted Values\")\n",
    "plt.plot(y_test, \"--\", label=\"Actual Values\")\n",
    "plt.title(\"Plot of Actual Values VS Predicted Values\")\n",
    "plt.xlabel(\"No of Study hours\")\n",
    "plt.legend()\n"
   ]
  },
  {
   "cell_type": "markdown",
   "id": "83682add-9baa-47f8-953b-e58a8d0a8993",
   "metadata": {},
   "source": [
    "`From the above graph, we can see that the error is not much`"
   ]
  },
  {
   "cell_type": "markdown",
   "id": "1646c6d2-291c-471c-8681-2ad4868c153e",
   "metadata": {},
   "source": []
  },
  {
   "cell_type": "code",
   "execution_count": null,
   "id": "9311051f-29cc-410b-9b2e-0ffd559a304f",
   "metadata": {},
   "outputs": [],
   "source": []
  }
 ],
 "metadata": {
  "kernelspec": {
   "display_name": "Python 3 (ipykernel)",
   "language": "python",
   "name": "python3"
  },
  "language_info": {
   "codemirror_mode": {
    "name": "ipython",
    "version": 3
   },
   "file_extension": ".py",
   "mimetype": "text/x-python",
   "name": "python",
   "nbconvert_exporter": "python",
   "pygments_lexer": "ipython3",
   "version": "3.9.12"
  },
  "toc-autonumbering": false,
  "toc-showcode": false,
  "toc-showmarkdowntxt": false
 },
 "nbformat": 4,
 "nbformat_minor": 5
}
